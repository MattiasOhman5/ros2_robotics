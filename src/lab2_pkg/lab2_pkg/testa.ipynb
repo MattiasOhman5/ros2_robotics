{
 "cells": [
  {
   "cell_type": "code",
   "execution_count": 1,
   "id": "d09959d3",
   "metadata": {},
   "outputs": [],
   "source": [
    "from casadi import *"
   ]
  },
  {
   "cell_type": "code",
   "execution_count": 2,
   "id": "32ea8232",
   "metadata": {},
   "outputs": [],
   "source": [
    "x = MX.sym(\"x\")"
   ]
  },
  {
   "cell_type": "code",
   "execution_count": 3,
   "id": "150388ce",
   "metadata": {},
   "outputs": [
    {
     "name": "stdout",
     "output_type": "stream",
     "text": [
      "cos(x)\n"
     ]
    }
   ],
   "source": [
    "print(jacobian(sin(x), x))"
   ]
  },
  {
   "cell_type": "code",
   "execution_count": 4,
   "id": "71ba9e6b",
   "metadata": {},
   "outputs": [],
   "source": [
    "import os\n",
    "import numpy as np\n",
    "import casadi as ca\n",
    "import opengen as og\n",
    "\n",
    "def setup_problem():\n",
    "    N = 15 # horizon steps\n",
    "    dt = 0.1 # sample time\n",
    "\n",
    "    # weights\n",
    "    q_pos = 10.0 # weight for x,y tracking error\n",
    "    q_yaw = 0.1 # weight for heading error\n",
    "    r_u_lin = 0.05\n",
    "    r_u_ang = 0.05\n",
    "    s_du = 0.2\n",
    "\n",
    "    # input bounds\n",
    "    v_min, v_max = 0.0, 0.30\n",
    "    w_min, w_max = -1.5, 1.5\n",
    "\n",
    "    # casadi symbols for parameters\n",
    "    p = ca.MX.sym('p', 5)\n",
    "    x_current, y_current, theta_current, x_goal, y_goal = p[0], p[1], p[2], p[3], p[4] \n",
    "\n",
    "    # decision variables (control inputs) -> the optimizer must choose these\n",
    "    # we calculate inputs for 20 timesteps but only apply the first\n",
    "    # -> v0 and w0\n",
    "    U = ca.MX.sym('U', 2*N)\n",
    "    v = U[0:N]\n",
    "    w = U[N:2*N]\n",
    "\n",
    "    return dict(\n",
    "        N=N, dt=dt,\n",
    "        q_pos=q_pos, q_yaw=q_yaw, r_u_lin=r_u_lin, r_u_ang=r_u_ang, s_du=s_du,\n",
    "        v_min=v_min, v_max=v_max, w_min=w_min, w_max=w_max,\n",
    "        p=p, x_current=x_current, y_current=y_current, theta_current=theta_current,\n",
    "        x_goal=x_goal, y_goal=y_goal,\n",
    "        U=U, v=v, w=w\n",
    "    )\n",
    "\n",
    "def dynamics(params):\n",
    "    N, dt = params('N'), params('dt')\n",
    "\n",
    "\n",
    "\n",
    "params = setup_problem()"
   ]
  }
 ],
 "metadata": {
  "kernelspec": {
   "display_name": "Python 3",
   "language": "python",
   "name": "python3"
  },
  "language_info": {
   "codemirror_mode": {
    "name": "ipython",
    "version": 3
   },
   "file_extension": ".py",
   "mimetype": "text/x-python",
   "name": "python",
   "nbconvert_exporter": "python",
   "pygments_lexer": "ipython3",
   "version": "3.12.3"
  }
 },
 "nbformat": 4,
 "nbformat_minor": 5
}
